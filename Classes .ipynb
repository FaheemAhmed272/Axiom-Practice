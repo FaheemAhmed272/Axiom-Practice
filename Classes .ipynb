{
 "cells": [
  {
   "cell_type": "code",
   "execution_count": 1,
   "metadata": {},
   "outputs": [],
   "source": [
    "class Human():\n",
    "    def __init__(self, name, age, gender):#initializer\n",
    "        self.name = name                # \"self\" to access globally \n",
    "        self.age = age\n",
    "        self.gender = gender \n",
    "        \n",
    "    def get_describe_name(self):\n",
    "        print(\"Name is\" + self.name)\n",
    "    def get_age(self):\n",
    "        print(\"age is\" + self.age)\n",
    "    def get_gender(self):\n",
    "        print(\"gender is\" + self.gender)\n",
    "    \n",
    "newhuman = Human(\"Faheem\", 22 , \"male\")\n",
    "anotherhuman = Human(\"asad\", 25 , \"male\")\n",
    "        \n",
    "         "
   ]
  },
  {
   "cell_type": "code",
   "execution_count": 5,
   "metadata": {},
   "outputs": [
    {
     "data": {
      "text/plain": [
       "'male'"
      ]
     },
     "execution_count": 5,
     "metadata": {},
     "output_type": "execute_result"
    }
   ],
   "source": [
    "newhuman.gender"
   ]
  },
  {
   "cell_type": "code",
   "execution_count": 6,
   "metadata": {},
   "outputs": [
    {
     "data": {
      "text/plain": [
       "'asad'"
      ]
     },
     "execution_count": 6,
     "metadata": {},
     "output_type": "execute_result"
    }
   ],
   "source": [
    "anotherhuman.name"
   ]
  },
  {
   "cell_type": "code",
   "execution_count": 2,
   "metadata": {},
   "outputs": [
    {
     "data": {
      "text/plain": [
       "<bound method Human.get_describe_name of <__main__.Human object at 0x00FC2C50>>"
      ]
     },
     "execution_count": 2,
     "metadata": {},
     "output_type": "execute_result"
    }
   ],
   "source": [
    "newhuman.get_describe_name"
   ]
  },
  {
   "cell_type": "code",
   "execution_count": 10,
   "metadata": {},
   "outputs": [],
   "source": [
    "class Car():\n",
    "    def __init__(self, color , speed , model):\n",
    "        self.color = color\n",
    "        self.speed = speed\n",
    "        self.model = model\n",
    "        \n",
    "newcar = Car(\"red\" , 200 , 2018)\n",
    "myfav = Car(\"white\", 1200 , 2019)"
   ]
  },
  {
   "cell_type": "code",
   "execution_count": 9,
   "metadata": {},
   "outputs": [
    {
     "data": {
      "text/plain": [
       "'red'"
      ]
     },
     "execution_count": 9,
     "metadata": {},
     "output_type": "execute_result"
    }
   ],
   "source": [
    "newcar.color"
   ]
  },
  {
   "cell_type": "code",
   "execution_count": 11,
   "metadata": {},
   "outputs": [
    {
     "data": {
      "text/plain": [
       "200"
      ]
     },
     "execution_count": 11,
     "metadata": {},
     "output_type": "execute_result"
    }
   ],
   "source": [
    "newcar.speed"
   ]
  },
  {
   "cell_type": "code",
   "execution_count": 12,
   "metadata": {},
   "outputs": [
    {
     "data": {
      "text/plain": [
       "2019"
      ]
     },
     "execution_count": 12,
     "metadata": {},
     "output_type": "execute_result"
    }
   ],
   "source": [
    "myfav.model"
   ]
  },
  {
   "cell_type": "code",
   "execution_count": 1,
   "metadata": {},
   "outputs": [],
   "source": [
    "class Human():\n",
    "    def __init__(self, name, age, gender):#initializer\n",
    "        self.name = name                  # \"self\" to access globally \n",
    "        self.age = age\n",
    "        self.gender = gender \n",
    "        \n",
    "    def moving(self):\n",
    "        print(f\"{self.name} Name is moving very fast\")\n",
    "        \n",
    "    def eat(self):\n",
    "        print(f\"{self.name} is eating very fast\")\n",
    "        \n",
    "    def playing(self):\n",
    "        print(f\"{self.name} is playing very fast\")\n",
    "        "
   ]
  },
  {
   "cell_type": "code",
   "execution_count": 3,
   "metadata": {},
   "outputs": [],
   "source": [
    "human1 = Human(\"husnain\", 22 , \"male\")\n",
    "human2 = Human(\"hammad\", 25 , \"male\")"
   ]
  },
  {
   "cell_type": "code",
   "execution_count": 10,
   "metadata": {},
   "outputs": [
    {
     "name": "stdout",
     "output_type": "stream",
     "text": [
      "hammad Name is moving very fast\n"
     ]
    }
   ],
   "source": [
    "human2.moving()"
   ]
  },
  {
   "cell_type": "code",
   "execution_count": 25,
   "metadata": {},
   "outputs": [],
   "source": [
    "class Cars():\n",
    "    def __init__(self, make, model, year):\n",
    "        self.make = make\n",
    "        self.model = model\n",
    "        self.year = year\n",
    "    def get_descriptive_name(self):\n",
    "        descriptive_name = f'{self.make} {self.model} {self.year}'\n",
    "        return descriptive_name"
   ]
  },
  {
   "cell_type": "code",
   "execution_count": 19,
   "metadata": {},
   "outputs": [],
   "source": [
    "my_new_car = Cars(\"Honda\" , \"latest\" , 2019)"
   ]
  },
  {
   "cell_type": "code",
   "execution_count": 20,
   "metadata": {},
   "outputs": [
    {
     "data": {
      "text/plain": [
       "'latest'"
      ]
     },
     "execution_count": 20,
     "metadata": {},
     "output_type": "execute_result"
    }
   ],
   "source": [
    "my_new_car.model"
   ]
  },
  {
   "cell_type": "code",
   "execution_count": 21,
   "metadata": {},
   "outputs": [
    {
     "data": {
      "text/plain": [
       "'latest Honda 2019'"
      ]
     },
     "execution_count": 21,
     "metadata": {},
     "output_type": "execute_result"
    }
   ],
   "source": [
    "my_new_car.get_descriptive_name()"
   ]
  },
  {
   "cell_type": "code",
   "execution_count": 22,
   "metadata": {},
   "outputs": [],
   "source": [
    "my_new_car.make = \"Toyota\""
   ]
  },
  {
   "cell_type": "code",
   "execution_count": 23,
   "metadata": {},
   "outputs": [
    {
     "data": {
      "text/plain": [
       "'Toyota'"
      ]
     },
     "execution_count": 23,
     "metadata": {},
     "output_type": "execute_result"
    }
   ],
   "source": [
    "my_new_car.make"
   ]
  },
  {
   "cell_type": "code",
   "execution_count": 26,
   "metadata": {},
   "outputs": [
    {
     "data": {
      "text/plain": [
       "'latest Toyota 2019'"
      ]
     },
     "execution_count": 26,
     "metadata": {},
     "output_type": "execute_result"
    }
   ],
   "source": [
    "my_new_car.get_descriptive_name()"
   ]
  },
  {
   "cell_type": "markdown",
   "metadata": {},
   "source": []
  },
  {
   "cell_type": "code",
   "execution_count": 20,
   "metadata": {},
   "outputs": [],
   "source": [
    "class Cars():\n",
    "    def __init__(self, make, model, year):\n",
    "        self.make = make\n",
    "        self.model = model\n",
    "        self.year = year\n",
    "        self.odometer_reading = 0\n",
    "        self.fuel = 20\n",
    "        \n",
    "    def get_descriptive_name(self):\n",
    "        descriptive_name = f'{self.make} {self.model} {self.year}'\n",
    "        return descriptive_name\n",
    "    def read_odometer(self):\n",
    "        print(\"this car has \" +  str(self.odometer_reading) + \" miles on it\")\n",
    "        \n",
    "    def update_odometer(self, mileage):\n",
    "        if (mileage >= self.odometer_reading):\n",
    "            self.odometer_reading = mileage\n",
    "            print(\"odometer has been updated\")\n",
    "        else:\n",
    "            print(\"this is not possible\")\n",
    "        \n",
    "            \n",
    "    def increment_odometer(self, miles):\n",
    "        self.odometer_reading += miles\n",
    "        print(\"you have incremented \" + str(miles) + \" miles\")\n",
    "        \n",
    "    def get_fuel(self):\n",
    "        print(\"this car has \" + str(self.fuel) + \"ltr fuel\")\n",
    "        \n",
    "    "
   ]
  },
  {
   "cell_type": "code",
   "execution_count": 21,
   "metadata": {},
   "outputs": [],
   "source": [
    "my_car = Cars(\"honda\", \"latest\", 2019)"
   ]
  },
  {
   "cell_type": "code",
   "execution_count": 4,
   "metadata": {},
   "outputs": [
    {
     "data": {
      "text/plain": [
       "0"
      ]
     },
     "execution_count": 4,
     "metadata": {},
     "output_type": "execute_result"
    }
   ],
   "source": [
    "my_car.odometer_reading"
   ]
  },
  {
   "cell_type": "code",
   "execution_count": 5,
   "metadata": {},
   "outputs": [
    {
     "name": "stdout",
     "output_type": "stream",
     "text": [
      "odometer has been updated\n"
     ]
    }
   ],
   "source": [
    "my_car.update_odometer(30)"
   ]
  },
  {
   "cell_type": "code",
   "execution_count": 6,
   "metadata": {},
   "outputs": [
    {
     "name": "stdout",
     "output_type": "stream",
     "text": [
      "this car has 30 miles on it\n"
     ]
    }
   ],
   "source": [
    "my_car.read_odometer()"
   ]
  },
  {
   "cell_type": "code",
   "execution_count": 7,
   "metadata": {},
   "outputs": [
    {
     "name": "stdout",
     "output_type": "stream",
     "text": [
      "this car has 30 miles on it\n"
     ]
    }
   ],
   "source": [
    "my_car.read_odometer()"
   ]
  },
  {
   "cell_type": "code",
   "execution_count": 8,
   "metadata": {},
   "outputs": [
    {
     "name": "stdout",
     "output_type": "stream",
     "text": [
      "this car has 30 miles on it\n"
     ]
    }
   ],
   "source": [
    "my_car.read_odometer()"
   ]
  },
  {
   "cell_type": "code",
   "execution_count": 9,
   "metadata": {},
   "outputs": [
    {
     "name": "stdout",
     "output_type": "stream",
     "text": [
      "this is not possible\n"
     ]
    }
   ],
   "source": [
    "my_car.update_odometer(20)"
   ]
  },
  {
   "cell_type": "code",
   "execution_count": 10,
   "metadata": {},
   "outputs": [
    {
     "name": "stdout",
     "output_type": "stream",
     "text": [
      "this car has 30 miles on it\n"
     ]
    }
   ],
   "source": [
    "my_car.read_odometer()"
   ]
  },
  {
   "cell_type": "code",
   "execution_count": 11,
   "metadata": {},
   "outputs": [
    {
     "name": "stdout",
     "output_type": "stream",
     "text": [
      "this is not possible\n"
     ]
    }
   ],
   "source": [
    "my_car.update_odometer(10)"
   ]
  },
  {
   "cell_type": "code",
   "execution_count": 12,
   "metadata": {},
   "outputs": [
    {
     "name": "stdout",
     "output_type": "stream",
     "text": [
      "this is not possible\n"
     ]
    }
   ],
   "source": [
    "my_car.update_odometer(10)"
   ]
  },
  {
   "cell_type": "code",
   "execution_count": 13,
   "metadata": {},
   "outputs": [
    {
     "name": "stdout",
     "output_type": "stream",
     "text": [
      "this is not possible\n"
     ]
    }
   ],
   "source": [
    "my_car.update_odometer(5)"
   ]
  },
  {
   "cell_type": "code",
   "execution_count": 14,
   "metadata": {},
   "outputs": [
    {
     "name": "stdout",
     "output_type": "stream",
     "text": [
      "you have incremented 5 miles\n"
     ]
    }
   ],
   "source": [
    "my_car.increment_odometer(5)"
   ]
  },
  {
   "cell_type": "code",
   "execution_count": 16,
   "metadata": {},
   "outputs": [
    {
     "name": "stdout",
     "output_type": "stream",
     "text": [
      "this car has 35 miles on it\n"
     ]
    }
   ],
   "source": [
    "my_car.read_odometer()"
   ]
  },
  {
   "cell_type": "code",
   "execution_count": 18,
   "metadata": {},
   "outputs": [
    {
     "name": "stdout",
     "output_type": "stream",
     "text": [
      "this car has 35 miles on it\n"
     ]
    }
   ],
   "source": [
    "my_car.read_odometer()"
   ]
  },
  {
   "cell_type": "code",
   "execution_count": 23,
   "metadata": {},
   "outputs": [
    {
     "name": "stdout",
     "output_type": "stream",
     "text": [
      "this car has 20ltr fuel\n"
     ]
    }
   ],
   "source": [
    "my_car.get_fuel()"
   ]
  },
  {
   "cell_type": "code",
   "execution_count": 39,
   "metadata": {},
   "outputs": [],
   "source": [
    "class Electric_car(Cars):\n",
    "    def __init__(self, make, model, year, oil):\n",
    "        super().__init__(make, model, year)\n",
    "        self.oil = oil\n",
    "        self.battery = 70\n",
    "        \n",
    "    def describe_bettery(self):\n",
    "        print(\"this car has \" + str(self.battery) + \"KWH \")\n",
    "        \n",
    "    def get_fuel(self):\n",
    "        print(\"There is no fuel tank in this car\")\n",
    "        "
   ]
  },
  {
   "cell_type": "code",
   "execution_count": 40,
   "metadata": {},
   "outputs": [],
   "source": [
    "modren_car = Electric_car(\"toyota\", \"latest\", 2020, \"50 ltr\")"
   ]
  },
  {
   "cell_type": "code",
   "execution_count": 35,
   "metadata": {},
   "outputs": [
    {
     "data": {
      "text/plain": [
       "'toyota latest 2020'"
      ]
     },
     "execution_count": 35,
     "metadata": {},
     "output_type": "execute_result"
    }
   ],
   "source": [
    "modren_car.get_descriptive_name()"
   ]
  },
  {
   "cell_type": "code",
   "execution_count": 36,
   "metadata": {},
   "outputs": [
    {
     "name": "stdout",
     "output_type": "stream",
     "text": [
      "There is no fuel tank in this car\n"
     ]
    }
   ],
   "source": [
    "modren_car.get_fuel()"
   ]
  },
  {
   "cell_type": "code",
   "execution_count": 37,
   "metadata": {},
   "outputs": [
    {
     "name": "stdout",
     "output_type": "stream",
     "text": [
      "There is no fuel tank in this car\n"
     ]
    }
   ],
   "source": [
    "modren_car.get_fuel()"
   ]
  },
  {
   "cell_type": "code",
   "execution_count": 35,
   "metadata": {},
   "outputs": [],
   "source": [
    "class Person():\n",
    "    def __init__(self, name, age, gender):\n",
    "        self.name = name\n",
    "        self.age = age\n",
    "        self.gender = gender \n",
    "    \n",
    "    def get_name(self):\n",
    "        print(\"this person is called by \" + str(self.name))\n",
    "    def get_age(self):\n",
    "        print(f\"{self.name} is  \" + str(self.age) + \"year old\" )\n",
    "    def find_gender(self):\n",
    "        print(f\"{self.name} is \" + str(self.gender))\n",
    "        "
   ]
  },
  {
   "cell_type": "code",
   "execution_count": 36,
   "metadata": {},
   "outputs": [],
   "source": [
    "new_person = Person(\"Hammad\", 25 , \"Male\")\n",
    "new_person2 = Person(\"komal\", 22 , \"Female\") "
   ]
  },
  {
   "cell_type": "code",
   "execution_count": 37,
   "metadata": {},
   "outputs": [
    {
     "name": "stdout",
     "output_type": "stream",
     "text": [
      "komal is  22year old\n"
     ]
    }
   ],
   "source": [
    "new_person2.get_age()"
   ]
  },
  {
   "cell_type": "code",
   "execution_count": 38,
   "metadata": {},
   "outputs": [
    {
     "name": "stdout",
     "output_type": "stream",
     "text": [
      "komal is Female\n"
     ]
    }
   ],
   "source": [
    "new_person2.find_gender()"
   ]
  },
  {
   "cell_type": "code",
   "execution_count": 39,
   "metadata": {},
   "outputs": [],
   "source": [
    "class Doctor(Person):\n",
    "    def __init__(self, name, age, gender, speacialist):\n",
    "        super().__init__(name, age, gender)\n",
    "        self.speacialist = speacialist \n",
    "    \n",
    "    def get_distription(self):\n",
    "        print(f\"Dr. {self.name} is \" + str(self.speacialist) + \" speacialist \")"
   ]
  },
  {
   "cell_type": "code",
   "execution_count": 40,
   "metadata": {},
   "outputs": [],
   "source": [
    "my_doc = Doctor(\"Sumbul\", 23, \"Female\", \"MBBS\")"
   ]
  },
  {
   "cell_type": "code",
   "execution_count": 41,
   "metadata": {},
   "outputs": [
    {
     "name": "stdout",
     "output_type": "stream",
     "text": [
      "Dr. Sumbul is MBBS speacialist \n"
     ]
    }
   ],
   "source": [
    "my_doc.get_distription()"
   ]
  },
  {
   "cell_type": "code",
   "execution_count": 42,
   "metadata": {},
   "outputs": [
    {
     "name": "stdout",
     "output_type": "stream",
     "text": [
      "Sumbul is Female\n"
     ]
    }
   ],
   "source": [
    "my_doc.find_gender()"
   ]
  },
  {
   "cell_type": "code",
   "execution_count": 63,
   "metadata": {},
   "outputs": [],
   "source": [
    "class Patients(Person):\n",
    "    def __init__(self, name, age, gender, allergy):\n",
    "        super().__init__(name, age, gender)\n",
    "        self.allergy = allergy \n",
    "        \n",
    "    def get_description(self):\n",
    "        print(f\" Mr. {self.name} have Allergy due to \" + str(self.allergy))"
   ]
  },
  {
   "cell_type": "code",
   "execution_count": 64,
   "metadata": {},
   "outputs": [],
   "source": [
    "new_ptnts = Patients(\"Faheem\", 25, \"Male\", \"Skin Problem\" )"
   ]
  },
  {
   "cell_type": "code",
   "execution_count": 58,
   "metadata": {},
   "outputs": [
    {
     "name": "stdout",
     "output_type": "stream",
     "text": [
      " Mr. Faheem have Allergy due to Skin Problem\n"
     ]
    }
   ],
   "source": [
    "new_ptnts.get_description()"
   ]
  },
  {
   "cell_type": "code",
   "execution_count": 57,
   "metadata": {},
   "outputs": [
    {
     "data": {
      "text/plain": [
       "'Skin Problem'"
      ]
     },
     "execution_count": 57,
     "metadata": {},
     "output_type": "execute_result"
    }
   ],
   "source": [
    "new_ptnts.allergy"
   ]
  },
  {
   "cell_type": "code",
   "execution_count": null,
   "metadata": {},
   "outputs": [],
   "source": [
    "class disease():\n",
    "    def __init__(self, name):\n",
    "        self.name = name \n",
    "        \n",
    "        \n",
    "    def get_name(self):\n",
    "        print()\n",
    "        \n",
    "        \n",
    "        \n",
    "#"
   ]
  }
 ],
 "metadata": {
  "kernelspec": {
   "display_name": "Python 3",
   "language": "python",
   "name": "python3"
  },
  "language_info": {
   "codemirror_mode": {
    "name": "ipython",
    "version": 3
   },
   "file_extension": ".py",
   "mimetype": "text/x-python",
   "name": "python",
   "nbconvert_exporter": "python",
   "pygments_lexer": "ipython3",
   "version": "3.7.1"
  }
 },
 "nbformat": 4,
 "nbformat_minor": 2
}
